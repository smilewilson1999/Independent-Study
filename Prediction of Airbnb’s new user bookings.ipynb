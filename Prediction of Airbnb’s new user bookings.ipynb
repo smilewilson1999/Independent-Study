{
 "cells": [
  {
   "cell_type": "code",
   "execution_count": null,
   "metadata": {
    "execution": {
     "iopub.execute_input": "2021-06-15T13:25:09.782853Z",
     "iopub.status.busy": "2021-06-15T13:25:09.782518Z",
     "iopub.status.idle": "2021-06-15T13:25:09.825328Z",
     "shell.execute_reply": "2021-06-15T13:25:09.824668Z",
     "shell.execute_reply.started": "2021-06-15T13:25:09.78282Z"
    }
   },
   "outputs": [],
   "source": [
    "#importing neccessary libraries\n",
    "import pandas as pd\n",
    "import numpy as np\n",
    "import matplotlib.pyplot as plt\n",
    "%matplotlib inline\n",
    "import seaborn as sns\n",
    "import datetime\n",
    "from sklearn.preprocessing import LabelEncoder\n",
    "from xgboost.sklearn import XGBClassifier\n",
    "import warnings\n",
    "warnings.filterwarnings('ignore')"
   ]
  },
  {
   "cell_type": "code",
   "execution_count": null,
   "metadata": {
    "execution": {
     "iopub.execute_input": "2021-06-15T13:25:10.061309Z",
     "iopub.status.busy": "2021-06-15T13:25:10.060889Z",
     "iopub.status.idle": "2021-06-15T13:25:10.88019Z",
     "shell.execute_reply": "2021-06-15T13:25:10.879156Z",
     "shell.execute_reply.started": "2021-06-15T13:25:10.061282Z"
    }
   },
   "outputs": [],
   "source": [
    "#Loading the Data\n",
    "df_train = pd.read_csv('../input/airbnb-recruiting-new-user-bookings/train_users_2.csv.zip')\n",
    "df_test = pd.read_csv('../input/airbnb-recruiting-new-user-bookings/test_users.csv.zip')\n",
    "df_train.shape, df_test.shape"
   ]
  },
  {
   "cell_type": "code",
   "execution_count": null,
   "metadata": {
    "execution": {
     "iopub.execute_input": "2021-06-15T13:25:10.882402Z",
     "iopub.status.busy": "2021-06-15T13:25:10.882178Z",
     "iopub.status.idle": "2021-06-15T13:25:10.904294Z",
     "shell.execute_reply": "2021-06-15T13:25:10.903394Z",
     "shell.execute_reply.started": "2021-06-15T13:25:10.882378Z"
    }
   },
   "outputs": [],
   "source": [
    "df_train.head()"
   ]
  },
  {
   "cell_type": "code",
   "execution_count": null,
   "metadata": {
    "execution": {
     "iopub.execute_input": "2021-06-15T13:25:11.079538Z",
     "iopub.status.busy": "2021-06-15T13:25:11.079269Z",
     "iopub.status.idle": "2021-06-15T13:25:11.098623Z",
     "shell.execute_reply": "2021-06-15T13:25:11.097688Z",
     "shell.execute_reply.started": "2021-06-15T13:25:11.079511Z"
    }
   },
   "outputs": [],
   "source": [
    "df_test.head()"
   ]
  },
  {
   "cell_type": "code",
   "execution_count": null,
   "metadata": {
    "execution": {
     "iopub.execute_input": "2021-06-15T13:25:11.336133Z",
     "iopub.status.busy": "2021-06-15T13:25:11.335621Z",
     "iopub.status.idle": "2021-06-15T13:25:11.5152Z",
     "shell.execute_reply": "2021-06-15T13:25:11.514471Z",
     "shell.execute_reply.started": "2021-06-15T13:25:11.336085Z"
    }
   },
   "outputs": [],
   "source": [
    "labels = df_train.country_destination.values\n",
    "id_test = df_test.id\n",
    "df_train.drop(['country_destination'], axis = 1)\n",
    "#Concatenating train and test data for EDA\n",
    "df_all = pd.concat((df_train, df_test), axis = 0, ignore_index= True)"
   ]
  },
  {
   "cell_type": "code",
   "execution_count": null,
   "metadata": {
    "execution": {
     "iopub.execute_input": "2021-06-15T13:25:11.517361Z",
     "iopub.status.busy": "2021-06-15T13:25:11.516848Z",
     "iopub.status.idle": "2021-06-15T13:25:11.522759Z",
     "shell.execute_reply": "2021-06-15T13:25:11.521923Z",
     "shell.execute_reply.started": "2021-06-15T13:25:11.517317Z"
    }
   },
   "outputs": [],
   "source": [
    "df_all.shape"
   ]
  },
  {
   "cell_type": "code",
   "execution_count": null,
   "metadata": {
    "execution": {
     "iopub.execute_input": "2021-06-15T13:25:11.695746Z",
     "iopub.status.busy": "2021-06-15T13:25:11.695274Z",
     "iopub.status.idle": "2021-06-15T13:25:11.717928Z",
     "shell.execute_reply": "2021-06-15T13:25:11.717021Z",
     "shell.execute_reply.started": "2021-06-15T13:25:11.695684Z"
    },
    "scrolled": true
   },
   "outputs": [],
   "source": [
    "df_all.head()"
   ]
  },
  {
   "cell_type": "code",
   "execution_count": null,
   "metadata": {
    "execution": {
     "iopub.execute_input": "2021-06-15T13:25:11.878398Z",
     "iopub.status.busy": "2021-06-15T13:25:11.877902Z",
     "iopub.status.idle": "2021-06-15T13:25:12.031167Z",
     "shell.execute_reply": "2021-06-15T13:25:12.030315Z",
     "shell.execute_reply.started": "2021-06-15T13:25:11.878351Z"
    }
   },
   "outputs": [],
   "source": [
    "#Finding the number of null entries in each column.\n",
    "for i in df_all.columns:\n",
    "    ab = df_all[i].isnull().sum()\n",
    "    if ab != 0:\n",
    "        print(i + \" has {} null values.\".format(ab))\n",
    "        print()"
   ]
  },
  {
   "cell_type": "code",
   "execution_count": null,
   "metadata": {
    "execution": {
     "iopub.execute_input": "2021-06-15T13:25:12.038674Z",
     "iopub.status.busy": "2021-06-15T13:25:12.038378Z",
     "iopub.status.idle": "2021-06-15T13:25:12.276394Z",
     "shell.execute_reply": "2021-06-15T13:25:12.275494Z",
     "shell.execute_reply.started": "2021-06-15T13:25:12.038644Z"
    }
   },
   "outputs": [],
   "source": [
    "df_all.info()"
   ]
  },
  {
   "cell_type": "code",
   "execution_count": null,
   "metadata": {
    "execution": {
     "iopub.execute_input": "2021-06-15T13:25:12.278023Z",
     "iopub.status.busy": "2021-06-15T13:25:12.277798Z",
     "iopub.status.idle": "2021-06-15T13:25:12.309157Z",
     "shell.execute_reply": "2021-06-15T13:25:12.308317Z",
     "shell.execute_reply.started": "2021-06-15T13:25:12.277999Z"
    }
   },
   "outputs": [],
   "source": [
    "df_all = df_all.drop(['id','country_destination','date_first_booking'], axis = 1)"
   ]
  },
  {
   "cell_type": "code",
   "execution_count": null,
   "metadata": {
    "execution": {
     "iopub.execute_input": "2021-06-15T13:25:12.383437Z",
     "iopub.status.busy": "2021-06-15T13:25:12.383175Z",
     "iopub.status.idle": "2021-06-15T13:25:12.498749Z",
     "shell.execute_reply": "2021-06-15T13:25:12.497919Z",
     "shell.execute_reply.started": "2021-06-15T13:25:12.383411Z"
    }
   },
   "outputs": [],
   "source": [
    "for i in df_all.columns:\n",
    "    ab = df_all[i].isnull().sum()\n",
    "    if ab != 0:\n",
    "        print(i + \" has {} null values.\".format(ab))\n",
    "        print()"
   ]
  },
  {
   "cell_type": "code",
   "execution_count": null,
   "metadata": {
    "execution": {
     "iopub.execute_input": "2021-06-15T13:25:12.55017Z",
     "iopub.status.busy": "2021-06-15T13:25:12.54991Z",
     "iopub.status.idle": "2021-06-15T13:25:12.566614Z",
     "shell.execute_reply": "2021-06-15T13:25:12.565686Z",
     "shell.execute_reply.started": "2021-06-15T13:25:12.550146Z"
    }
   },
   "outputs": [],
   "source": [
    "df_all.head()"
   ]
  },
  {
   "cell_type": "code",
   "execution_count": null,
   "metadata": {
    "execution": {
     "iopub.execute_input": "2021-06-15T13:25:12.887801Z",
     "iopub.status.busy": "2021-06-15T13:25:12.887445Z",
     "iopub.status.idle": "2021-06-15T13:25:12.921536Z",
     "shell.execute_reply": "2021-06-15T13:25:12.920464Z",
     "shell.execute_reply.started": "2021-06-15T13:25:12.887768Z"
    }
   },
   "outputs": [],
   "source": [
    "df_all.gender.value_counts()"
   ]
  },
  {
   "cell_type": "code",
   "execution_count": null,
   "metadata": {
    "execution": {
     "iopub.execute_input": "2021-06-15T13:25:13.071935Z",
     "iopub.status.busy": "2021-06-15T13:25:13.071622Z",
     "iopub.status.idle": "2021-06-15T13:25:13.09615Z",
     "shell.execute_reply": "2021-06-15T13:25:13.095459Z",
     "shell.execute_reply.started": "2021-06-15T13:25:13.071906Z"
    }
   },
   "outputs": [],
   "source": [
    "df_all.age.describe()"
   ]
  },
  {
   "cell_type": "code",
   "execution_count": null,
   "metadata": {
    "execution": {
     "iopub.execute_input": "2021-06-15T13:25:13.230671Z",
     "iopub.status.busy": "2021-06-15T13:25:13.230404Z",
     "iopub.status.idle": "2021-06-15T13:25:13.243124Z",
     "shell.execute_reply": "2021-06-15T13:25:13.242168Z",
     "shell.execute_reply.started": "2021-06-15T13:25:13.230647Z"
    }
   },
   "outputs": [],
   "source": [
    "df_all[df_all['age']<15].age = np.nan\n",
    "df_all[df_all['age']>=100].age = np.nan"
   ]
  },
  {
   "cell_type": "code",
   "execution_count": null,
   "metadata": {
    "execution": {
     "iopub.execute_input": "2021-06-15T13:25:13.386988Z",
     "iopub.status.busy": "2021-06-15T13:25:13.386686Z",
     "iopub.status.idle": "2021-06-15T13:25:13.585132Z",
     "shell.execute_reply": "2021-06-15T13:25:13.584234Z",
     "shell.execute_reply.started": "2021-06-15T13:25:13.386961Z"
    }
   },
   "outputs": [],
   "source": [
    "#Converting below columns as categories for plotting in graphs\n",
    "categorical_features = [\n",
    "    'affiliate_channel',\n",
    "    'affiliate_provider',\n",
    "    'first_affiliate_tracked',\n",
    "    'first_browser',\n",
    "    'first_device_type',\n",
    "    'gender',\n",
    "    'language',\n",
    "    'signup_app',\n",
    "    'signup_method',\n",
    "    'signup_flow'\n",
    "]\n",
    "\n",
    "for categorical_feature in categorical_features:\n",
    "    df_all[categorical_feature] = df_all[categorical_feature].astype('category') # make memory usage lower"
   ]
  },
  {
   "cell_type": "code",
   "execution_count": null,
   "metadata": {
    "execution": {
     "iopub.execute_input": "2021-06-15T13:25:13.587142Z",
     "iopub.status.busy": "2021-06-15T13:25:13.586914Z",
     "iopub.status.idle": "2021-06-15T13:25:14.55085Z",
     "shell.execute_reply": "2021-06-15T13:25:14.549713Z",
     "shell.execute_reply.started": "2021-06-15T13:25:13.587117Z"
    }
   },
   "outputs": [],
   "source": [
    "df_all['date_account_created'] = pd.to_datetime(df_all['date_account_created'])\n",
    "df_all['timestamp_first_active'] = pd.to_datetime(df_all['timestamp_first_active'], format='%Y%m%d%H%M%S')"
   ]
  },
  {
   "cell_type": "markdown",
   "metadata": {},
   "source": [
    "# Visualizations"
   ]
  },
  {
   "cell_type": "markdown",
   "metadata": {},
   "source": [
    "#### Univariate plots"
   ]
  },
  {
   "cell_type": "code",
   "execution_count": null,
   "metadata": {
    "execution": {
     "iopub.execute_input": "2021-06-15T13:25:14.655061Z",
     "iopub.status.busy": "2021-06-15T13:25:14.654787Z",
     "iopub.status.idle": "2021-06-15T13:25:14.661421Z",
     "shell.execute_reply": "2021-06-15T13:25:14.660055Z",
     "shell.execute_reply.started": "2021-06-15T13:25:14.65503Z"
    }
   },
   "outputs": [],
   "source": [
    "sns.set_style('whitegrid')\n",
    "sns.set_context(\"talk\")"
   ]
  },
  {
   "cell_type": "code",
   "execution_count": null,
   "metadata": {
    "execution": {
     "iopub.execute_input": "2021-06-15T13:25:15.026971Z",
     "iopub.status.busy": "2021-06-15T13:25:15.026672Z",
     "iopub.status.idle": "2021-06-15T13:25:15.223739Z",
     "shell.execute_reply": "2021-06-15T13:25:15.222822Z",
     "shell.execute_reply.started": "2021-06-15T13:25:15.02694Z"
    }
   },
   "outputs": [],
   "source": [
    "#Finding the gender distribution\n",
    "\n",
    "plt.figure(figsize=(14,8))\n",
    "order1 = df_all['gender'].value_counts().index\n",
    "sns.countplot(data = df_all, x = 'gender', order = order1, color = sns.color_palette()[0])\n",
    "plt.xlabel('Gender')\n",
    "plt.ylabel('Count')\n",
    "plt.title('Gender Distribution')\n",
    "order2 = df_all['gender'].value_counts()\n",
    "\n",
    "for i in range(order2.shape[0]):\n",
    "    count = order2[i]\n",
    "    strt='{:0.1f}%'.format(100*count / df_all.shape[0])\n",
    "    plt.text(i,count+1000,strt,ha='center')"
   ]
  },
  {
   "cell_type": "code",
   "execution_count": null,
   "metadata": {
    "execution": {
     "iopub.execute_input": "2021-06-15T13:25:15.294999Z",
     "iopub.status.busy": "2021-06-15T13:25:15.294719Z",
     "iopub.status.idle": "2021-06-15T13:25:15.623801Z",
     "shell.execute_reply": "2021-06-15T13:25:15.622815Z",
     "shell.execute_reply.started": "2021-06-15T13:25:15.294972Z"
    }
   },
   "outputs": [],
   "source": [
    "#Finding Destination Distribution.\n",
    "\n",
    "plt.figure(figsize=(14,8))\n",
    "order1 = df_train['country_destination'].value_counts().index\n",
    "sns.countplot(data = df_train, x = 'country_destination', order = order1, color = sns.color_palette()[1])\n",
    "plt.xlabel('Destination')\n",
    "plt.ylabel('Count')\n",
    "plt.title('Destination Distribution')\n",
    "order2 = df_train['country_destination'].value_counts()\n",
    "\n",
    "for i in range(order2.shape[0]):\n",
    "    count = order2[i]\n",
    "    strt='{:0.1f}%'.format(100*count / df_train.shape[0])\n",
    "    plt.text(i,count+1000,strt,ha='center')"
   ]
  },
  {
   "cell_type": "code",
   "execution_count": null,
   "metadata": {
    "execution": {
     "iopub.execute_input": "2021-06-15T13:25:15.62627Z",
     "iopub.status.busy": "2021-06-15T13:25:15.62593Z",
     "iopub.status.idle": "2021-06-15T13:25:15.795695Z",
     "shell.execute_reply": "2021-06-15T13:25:15.794692Z",
     "shell.execute_reply.started": "2021-06-15T13:25:15.62623Z"
    }
   },
   "outputs": [],
   "source": [
    "#Extracting year for date_account_created\n",
    "df_all['acc_year'] = df_all['date_account_created'].dt.year\n",
    "\n",
    "\n",
    "df1 = df_all.groupby('acc_year').count()\n",
    "df1.head()\n",
    "\n",
    "years = [2010,2011,2012,2013,2014]\n",
    "yearsOrder=pd.api.types.CategoricalDtype(ordered=True, categories=years)\n",
    "df1.reset_index(inplace = True)\n",
    "df1.acc_year = df1.acc_year.astype(yearsOrder)"
   ]
  },
  {
   "cell_type": "code",
   "execution_count": null,
   "metadata": {
    "execution": {
     "iopub.execute_input": "2021-06-15T13:25:15.7977Z",
     "iopub.status.busy": "2021-06-15T13:25:15.797442Z",
     "iopub.status.idle": "2021-06-15T13:25:15.985251Z",
     "shell.execute_reply": "2021-06-15T13:25:15.984121Z",
     "shell.execute_reply.started": "2021-06-15T13:25:15.797674Z"
    }
   },
   "outputs": [],
   "source": [
    "#Finding year-wise distribution\n",
    "\n",
    "plt.figure(figsize=[14,8])\n",
    "sns.barplot(data=df1,x='acc_year',y='affiliate_provider',color=sns.color_palette()[2]);\n",
    "plt.title('Year wise distribution');\n",
    "plt.xlabel('Year')\n",
    "plt.ylabel('Counts')\n",
    "for i in range(df1.shape[0]):\n",
    "    count=df1.iloc[i]['affiliate_provider']\n",
    "    strt='{:0.2f}%'.format(100*count/df_all.shape[0])\n",
    "    plt.text(i,count+1000,strt,ha='center')"
   ]
  },
  {
   "cell_type": "code",
   "execution_count": null,
   "metadata": {
    "execution": {
     "iopub.execute_input": "2021-06-15T13:25:15.987664Z",
     "iopub.status.busy": "2021-06-15T13:25:15.987327Z",
     "iopub.status.idle": "2021-06-15T13:25:17.078409Z",
     "shell.execute_reply": "2021-06-15T13:25:17.077011Z",
     "shell.execute_reply.started": "2021-06-15T13:25:15.987622Z"
    }
   },
   "outputs": [],
   "source": [
    "# Creating a month centered dataframe for 2014\n",
    "df2 = df_all[df_all['date_account_created'].dt.year==2014]\n",
    "df2['monthYear14'] = df2['date_account_created'].map(lambda x: x.strftime('%m-%Y'))\n",
    "df2 = df2.groupby('monthYear14').count()"
   ]
  },
  {
   "cell_type": "code",
   "execution_count": null,
   "metadata": {
    "execution": {
     "iopub.execute_input": "2021-06-15T13:25:17.081418Z",
     "iopub.status.busy": "2021-06-15T13:25:17.081064Z",
     "iopub.status.idle": "2021-06-15T13:25:17.311353Z",
     "shell.execute_reply": "2021-06-15T13:25:17.310697Z",
     "shell.execute_reply.started": "2021-06-15T13:25:17.081381Z"
    }
   },
   "outputs": [],
   "source": [
    "#Number of accounts created in different month of 2014\n",
    "\n",
    "plt.figure(figsize=[14,8])\n",
    "sns.barplot(data=df2,x=df2.index,y='affiliate_provider',color=sns.color_palette()[3]);\n",
    "plt.title('2014 month wise distribution');\n",
    "plt.xlabel('Month-Year')\n",
    "plt.ylabel('Counts')\n",
    "for i in range(df2.shape[0]):\n",
    "    count=df2.iloc[i]['affiliate_provider']\n",
    "    strt='{:0.2f}%'.format(100*count/df_all.shape[0])\n",
    "    plt.text(i,count+100,strt,ha='center')"
   ]
  },
  {
   "cell_type": "code",
   "execution_count": null,
   "metadata": {
    "execution": {
     "iopub.execute_input": "2021-06-15T13:25:17.313209Z",
     "iopub.status.busy": "2021-06-15T13:25:17.312781Z",
     "iopub.status.idle": "2021-06-15T13:25:17.451415Z",
     "shell.execute_reply": "2021-06-15T13:25:17.450739Z",
     "shell.execute_reply.started": "2021-06-15T13:25:17.313163Z"
    }
   },
   "outputs": [],
   "source": [
    "#Dividing member ages into various bins\n",
    "\n",
    "df_all['member_age_bins']=df_all['age'].apply(lambda x: '18 - 20' if 18<x<=20\n",
    "                                                  else '20 - 30' if 20<x<=30\n",
    "                                                  else '30 - 40' if 30<x<=40\n",
    "                                                  else '40 - 50' if 40<x<=50\n",
    "                                                  else '50 - 60' if 50<x<=60\n",
    "                                                  else '60-70' if 60<x<=70\n",
    "                                                  else '70+' if 70<x<=100\n",
    "                                                  else np.nan)"
   ]
  },
  {
   "cell_type": "code",
   "execution_count": null,
   "metadata": {
    "execution": {
     "iopub.execute_input": "2021-06-15T13:25:17.452741Z",
     "iopub.status.busy": "2021-06-15T13:25:17.45238Z",
     "iopub.status.idle": "2021-06-15T13:25:17.476731Z",
     "shell.execute_reply": "2021-06-15T13:25:17.475891Z",
     "shell.execute_reply.started": "2021-06-15T13:25:17.452689Z"
    }
   },
   "outputs": [],
   "source": [
    "df_all.head()"
   ]
  },
  {
   "cell_type": "code",
   "execution_count": null,
   "metadata": {
    "execution": {
     "iopub.execute_input": "2021-06-15T13:25:17.478447Z",
     "iopub.status.busy": "2021-06-15T13:25:17.478206Z",
     "iopub.status.idle": "2021-06-15T13:25:18.154897Z",
     "shell.execute_reply": "2021-06-15T13:25:18.153826Z",
     "shell.execute_reply.started": "2021-06-15T13:25:17.478422Z"
    }
   },
   "outputs": [],
   "source": [
    "# Creating a month centered dataframe for 2014\n",
    "\n",
    "df3 = df_all[df_all['date_account_created'].dt.year==2013]\n",
    "df3['monthYear13'] = df3['date_account_created'].map(lambda x: x.strftime('%m-%Y'))\n",
    "df3 = df3.groupby('monthYear13').count()"
   ]
  },
  {
   "cell_type": "code",
   "execution_count": null,
   "metadata": {
    "execution": {
     "iopub.execute_input": "2021-06-15T13:25:18.157727Z",
     "iopub.status.busy": "2021-06-15T13:25:18.157362Z",
     "iopub.status.idle": "2021-06-15T13:25:18.436867Z",
     "shell.execute_reply": "2021-06-15T13:25:18.435964Z",
     "shell.execute_reply.started": "2021-06-15T13:25:18.157672Z"
    }
   },
   "outputs": [],
   "source": [
    "#Number of accounts created in different month of 2014\n",
    "\n",
    "plt.figure(figsize=[14,8])\n",
    "sns.barplot(data=df3,x=df3.index,y='affiliate_provider',color=sns.color_palette()[4]);\n",
    "plt.title('2013 month wise distribution');\n",
    "plt.xlabel('Month-Year')\n",
    "plt.ylabel('Counts')\n",
    "for i in range(df3.shape[0]):\n",
    "    count=df3.iloc[i]['affiliate_provider']\n",
    "    strt='{:0.2f}%'.format(100*count/df_all.shape[0])\n",
    "    plt.text(i,count+100,strt,ha='center')"
   ]
  },
  {
   "cell_type": "code",
   "execution_count": null,
   "metadata": {
    "execution": {
     "iopub.execute_input": "2021-06-15T13:25:18.438963Z",
     "iopub.status.busy": "2021-06-15T13:25:18.438465Z",
     "iopub.status.idle": "2021-06-15T13:25:18.760417Z",
     "shell.execute_reply": "2021-06-15T13:25:18.75955Z",
     "shell.execute_reply.started": "2021-06-15T13:25:18.438923Z"
    }
   },
   "outputs": [],
   "source": [
    "#Plotting Age distribution of the members\n",
    "plt.figure(figsize=[14,8])\n",
    "sns.distplot(df_all.age.dropna(),bins=np.arange(18,100+5,5),color=sns.color_palette()[5],kde=False);\n",
    "plt.xlabel('Age of members')\n",
    "plt.ylabel('Count')\n",
    "plt.title('Age distribution of Users')\n",
    "plt.xlim(18,100);"
   ]
  },
  {
   "cell_type": "markdown",
   "metadata": {},
   "source": [
    "#### Bivariate Plots"
   ]
  },
  {
   "cell_type": "code",
   "execution_count": null,
   "metadata": {
    "execution": {
     "iopub.execute_input": "2021-06-15T13:25:19.380157Z",
     "iopub.status.busy": "2021-06-15T13:25:19.379697Z",
     "iopub.status.idle": "2021-06-15T13:25:19.755626Z",
     "shell.execute_reply": "2021-06-15T13:25:19.754666Z",
     "shell.execute_reply.started": "2021-06-15T13:25:19.380126Z"
    }
   },
   "outputs": [],
   "source": [
    "#Destination-Age distribution plot\n",
    "\n",
    "plt.figure(figsize=[14,8])\n",
    "sns.boxplot(data=df_train,y='age',x='country_destination',color=sns.color_palette()[6]);\n",
    "plt.ylim(18,100)\n",
    "plt.xlabel('Country');\n",
    "plt.ylabel('Age');\n",
    "plt.title('Country-Age Distribution');"
   ]
  },
  {
   "cell_type": "code",
   "execution_count": null,
   "metadata": {
    "execution": {
     "iopub.execute_input": "2021-06-15T13:25:19.846257Z",
     "iopub.status.busy": "2021-06-15T13:25:19.845935Z",
     "iopub.status.idle": "2021-06-15T13:25:20.067289Z",
     "shell.execute_reply": "2021-06-15T13:25:20.06627Z",
     "shell.execute_reply.started": "2021-06-15T13:25:19.846227Z"
    }
   },
   "outputs": [],
   "source": [
    "#Gender-Age Distribution plot\n",
    "\n",
    "plt.figure(figsize=[14,8])\n",
    "sns.boxplot(data=df_all,y='age',x='gender',color=sns.color_palette()[7]);\n",
    "plt.ylim(18,100)\n",
    "plt.xlabel('Gender');\n",
    "plt.ylabel('Age');\n",
    "plt.title('Gender-Age Distribution');"
   ]
  },
  {
   "cell_type": "code",
   "execution_count": null,
   "metadata": {
    "execution": {
     "iopub.execute_input": "2021-06-15T13:25:20.547074Z",
     "iopub.status.busy": "2021-06-15T13:25:20.546614Z",
     "iopub.status.idle": "2021-06-15T13:25:21.090071Z",
     "shell.execute_reply": "2021-06-15T13:25:21.089369Z",
     "shell.execute_reply.started": "2021-06-15T13:25:20.547032Z"
    }
   },
   "outputs": [],
   "source": [
    "#Gender-Destination Distribution Plot\n",
    "\n",
    "plt.figure(figsize=(14,8))\n",
    "order1 = df_train['country_destination'].value_counts().index\n",
    "sns.countplot(data = df_train, x = 'country_destination', order = order1,hue='gender')\n",
    "plt.xlabel('Destination')\n",
    "plt.ylabel('Count')\n",
    "plt.title('Gender-Destination Distribution')\n",
    "order2 = df_train['country_destination'].value_counts()"
   ]
  },
  {
   "cell_type": "code",
   "execution_count": null,
   "metadata": {
    "execution": {
     "iopub.execute_input": "2021-06-15T13:25:22.150964Z",
     "iopub.status.busy": "2021-06-15T13:25:22.150632Z",
     "iopub.status.idle": "2021-06-15T13:25:22.803556Z",
     "shell.execute_reply": "2021-06-15T13:25:22.802735Z",
     "shell.execute_reply.started": "2021-06-15T13:25:22.150931Z"
    }
   },
   "outputs": [],
   "source": [
    "df3 = df_all[df_all['date_account_created'].dt.year==2013]\n",
    "df3['monthYear13'] = df3['date_account_created'].map(lambda x: x.strftime('%m-%Y'))\n",
    "\n",
    "df3= df3.groupby(['monthYear13','member_age_bins']).count()\n",
    "\n",
    "df3.reset_index(inplace=True)"
   ]
  },
  {
   "cell_type": "code",
   "execution_count": null,
   "metadata": {
    "execution": {
     "iopub.execute_input": "2021-06-15T13:25:22.8056Z",
     "iopub.status.busy": "2021-06-15T13:25:22.805352Z",
     "iopub.status.idle": "2021-06-15T13:25:23.406927Z",
     "shell.execute_reply": "2021-06-15T13:25:23.406307Z",
     "shell.execute_reply.started": "2021-06-15T13:25:22.805576Z"
    }
   },
   "outputs": [],
   "source": [
    "#Age wise distribution of the booking in different months of 2013\n",
    "\n",
    "plt.figure(figsize=[14,8])\n",
    "sns.pointplot(data=df3,x='monthYear13',y='affiliate_provider',hue='member_age_bins');\n",
    "plt.title('2013 month-age wise distribution');\n",
    "plt.xlabel('Month-Year')\n",
    "plt.ylabel('Counts')"
   ]
  },
  {
   "cell_type": "code",
   "execution_count": null,
   "metadata": {
    "execution": {
     "iopub.execute_input": "2021-06-15T13:25:23.408496Z",
     "iopub.status.busy": "2021-06-15T13:25:23.408184Z",
     "iopub.status.idle": "2021-06-15T13:25:24.038031Z",
     "shell.execute_reply": "2021-06-15T13:25:24.037258Z",
     "shell.execute_reply.started": "2021-06-15T13:25:23.40847Z"
    }
   },
   "outputs": [],
   "source": [
    "df3 = df_all[df_all['date_account_created'].dt.year==2013]\n",
    "df3['monthYear13'] = df3['date_account_created'].map(lambda x: x.strftime('%m-%Y'))\n",
    "\n",
    "df3= df3.groupby(['monthYear13','gender']).count()\n",
    "\n",
    "df3.reset_index(inplace=True)"
   ]
  },
  {
   "cell_type": "code",
   "execution_count": null,
   "metadata": {
    "execution": {
     "iopub.execute_input": "2021-06-15T13:25:24.039505Z",
     "iopub.status.busy": "2021-06-15T13:25:24.039148Z",
     "iopub.status.idle": "2021-06-15T13:25:24.466365Z",
     "shell.execute_reply": "2021-06-15T13:25:24.465748Z",
     "shell.execute_reply.started": "2021-06-15T13:25:24.039478Z"
    }
   },
   "outputs": [],
   "source": [
    "#Gender wise distribution of the booking in different months of 2013\n",
    "\n",
    "plt.figure(figsize=[14,8])\n",
    "sns.pointplot(data=df3,x='monthYear13',y='affiliate_provider',hue='gender');\n",
    "plt.title('2013 month-gender wise distribution');\n",
    "plt.xlabel('Month-Year')\n",
    "plt.ylabel('Counts')"
   ]
  },
  {
   "cell_type": "markdown",
   "metadata": {},
   "source": [
    "#### Multivariate Plot"
   ]
  },
  {
   "cell_type": "code",
   "execution_count": null,
   "metadata": {
    "execution": {
     "iopub.execute_input": "2021-06-15T13:25:26.218474Z",
     "iopub.status.busy": "2021-06-15T13:25:26.218038Z",
     "iopub.status.idle": "2021-06-15T13:25:27.342632Z",
     "shell.execute_reply": "2021-06-15T13:25:27.341929Z",
     "shell.execute_reply.started": "2021-06-15T13:25:26.218443Z"
    }
   },
   "outputs": [],
   "source": [
    "#Relation ship between age-gender-destination\n",
    "\n",
    "plt.figure(figsize=[14,8])\n",
    "sns.boxplot(data=df_train,y='age',x='country_destination',hue='gender');\n",
    "plt.ylim(18,100)\n",
    "plt.xlabel('Country');\n",
    "plt.ylabel('Age');\n",
    "plt.title('Country-Age Distribution');"
   ]
  },
  {
   "cell_type": "markdown",
   "metadata": {},
   "source": [
    "# Computation for the Booking Destination"
   ]
  },
  {
   "cell_type": "code",
   "execution_count": null,
   "metadata": {
    "execution": {
     "iopub.execute_input": "2021-06-15T13:25:28.482946Z",
     "iopub.status.busy": "2021-06-15T13:25:28.482403Z",
     "iopub.status.idle": "2021-06-15T13:25:28.507424Z",
     "shell.execute_reply": "2021-06-15T13:25:28.506759Z",
     "shell.execute_reply.started": "2021-06-15T13:25:28.482912Z"
    }
   },
   "outputs": [],
   "source": [
    "df_train = df_train.drop(['country_destination'], axis=1)"
   ]
  },
  {
   "cell_type": "code",
   "execution_count": null,
   "metadata": {
    "execution": {
     "iopub.execute_input": "2021-06-15T13:25:29.880973Z",
     "iopub.status.busy": "2021-06-15T13:25:29.880435Z",
     "iopub.status.idle": "2021-06-15T13:25:30.248329Z",
     "shell.execute_reply": "2021-06-15T13:25:30.247643Z",
     "shell.execute_reply.started": "2021-06-15T13:25:29.880935Z"
    }
   },
   "outputs": [],
   "source": [
    "#ignore_index=True,意味著index不能是重複的ㄖ\n",
    "dfWork = pd.concat((df_train, df_test), axis=0, ignore_index=True)\n",
    "dfWork = dfWork.drop(['id', 'date_first_booking'], axis=1)\n",
    "#Filling nan\n",
    "dfWork = dfWork.fillna(-1)\n"
   ]
  },
  {
   "cell_type": "markdown",
   "metadata": {},
   "source": [
    "### Feature Engineering"
   ]
  },
  {
   "cell_type": "code",
   "execution_count": null,
   "metadata": {
    "execution": {
     "iopub.execute_input": "2021-06-15T13:25:31.736787Z",
     "iopub.status.busy": "2021-06-15T13:25:31.736343Z",
     "iopub.status.idle": "2021-06-15T13:25:33.396196Z",
     "shell.execute_reply": "2021-06-15T13:25:33.395245Z",
     "shell.execute_reply.started": "2021-06-15T13:25:31.736748Z"
    }
   },
   "outputs": [],
   "source": [
    "#date_account_created\n",
    "\n",
    "dac = np.vstack(dfWork.date_account_created.astype(str).apply(lambda x: list(map(int, x.split('-')))).values)\n",
    "dfWork['dac_year'] = dac[:,0]\n",
    "dfWork['dac_month'] = dac[:,1]\n",
    "dfWork['dac_day'] = dac[:,2]\n",
    "dfWork = dfWork.drop(['date_account_created'], axis=1)"
   ]
  },
  {
   "cell_type": "code",
   "execution_count": null,
   "metadata": {
    "execution": {
     "iopub.execute_input": "2021-06-15T13:25:33.398116Z",
     "iopub.status.busy": "2021-06-15T13:25:33.397901Z",
     "iopub.status.idle": "2021-06-15T13:25:35.3556Z",
     "shell.execute_reply": "2021-06-15T13:25:35.354902Z",
     "shell.execute_reply.started": "2021-06-15T13:25:33.398094Z"
    }
   },
   "outputs": [],
   "source": [
    "#timestamp_first_active\n",
    "\n",
    "tfa = np.vstack(dfWork.timestamp_first_active.astype(str).apply(lambda x: list(map(int, [x[:4],x[4:6],x[6:8],x[8:10],x[10:12],x[12:14]]))).values)\n",
    "dfWork['tfa_year'] = tfa[:,0]\n",
    "dfWork['tfa_month'] = tfa[:,1]\n",
    "dfWork['tfa_day'] = tfa[:,2]\n",
    "dfWork = dfWork.drop(['timestamp_first_active'], axis=1)"
   ]
  },
  {
   "cell_type": "code",
   "execution_count": null,
   "metadata": {
    "execution": {
     "iopub.execute_input": "2021-06-15T13:25:35.358699Z",
     "iopub.status.busy": "2021-06-15T13:25:35.358368Z",
     "iopub.status.idle": "2021-06-15T13:25:35.372721Z",
     "shell.execute_reply": "2021-06-15T13:25:35.371856Z",
     "shell.execute_reply.started": "2021-06-15T13:25:35.35866Z"
    }
   },
   "outputs": [],
   "source": [
    "av = dfWork.age.values\n",
    "dfWork['age'] = np.where(np.logical_or(av<14, av>100), -1, av)"
   ]
  },
  {
   "cell_type": "code",
   "execution_count": null,
   "metadata": {},
   "outputs": [],
   "source": [
    "dfWork.head()"
   ]
  },
  {
   "cell_type": "markdown",
   "metadata": {},
   "source": [
    "### One hot Encoding"
   ]
  },
  {
   "cell_type": "code",
   "execution_count": null,
   "metadata": {
    "execution": {
     "iopub.execute_input": "2021-06-15T13:25:35.801384Z",
     "iopub.status.busy": "2021-06-15T13:25:35.801118Z",
     "iopub.status.idle": "2021-06-15T13:25:36.509347Z",
     "shell.execute_reply": "2021-06-15T13:25:36.50843Z",
     "shell.execute_reply.started": "2021-06-15T13:25:35.80136Z"
    }
   },
   "outputs": [],
   "source": [
    "#One-hot-encoding features\n",
    "ohe_feats = ['gender', 'signup_method', 'signup_flow', 'language', 'affiliate_channel',\n",
    "             'affiliate_provider', 'first_affiliate_tracked', 'signup_app', 'first_device_type', 'first_browser']\n",
    "for f in ohe_feats:\n",
    "    dfWork_dummy = pd.get_dummies(dfWork[f], prefix=f)\n",
    "    dfWork = dfWork.drop([f], axis=1)\n",
    "    dfWork = pd.concat((dfWork, dfWork_dummy), axis=1)"
   ]
  },
  {
   "cell_type": "code",
   "execution_count": null,
   "metadata": {},
   "outputs": [],
   "source": [
    "dfWork.head()"
   ]
  },
  {
   "cell_type": "code",
   "execution_count": null,
   "metadata": {
    "execution": {
     "iopub.execute_input": "2021-06-15T13:25:36.511348Z",
     "iopub.status.busy": "2021-06-15T13:25:36.511034Z",
     "iopub.status.idle": "2021-06-15T13:25:37.391438Z",
     "shell.execute_reply": "2021-06-15T13:25:37.390486Z",
     "shell.execute_reply.started": "2021-06-15T13:25:36.511311Z"
    }
   },
   "outputs": [],
   "source": [
    "#Splitting train and test\n",
    "#df.shape[0] gives number of row count\n",
    "\n",
    "vals = dfWork.values\n",
    "X = vals[:df_train.shape[0]]\n",
    "le = LabelEncoder()\n",
    "y = le.fit_transform(labels)   \n",
    "X_test = vals[df_train.shape[0]:]"
   ]
  },
  {
   "cell_type": "code",
   "execution_count": null,
   "metadata": {},
   "outputs": [],
   "source": [
    "#Classifier\n",
    "xgb = XGBClassifier(max_depth=6, learning_rate=0.3, n_estimators=25,\n",
    "                     objective='multi:softprob', subsample=0.5, colsample_bytree=0.5, seed=0) \n",
    "\n",
    "#from sklearn.model_selection import GridSearchCV\n",
    "#xgb2 = XGBClassifier(objective='multi:softprob', subsample=0.5, colsample_bytree=0.5, seed=0)  \n",
    "\n",
    "#clf = GridSearchCV(\n",
    "#    xgb2,\n",
    "#    {\n",
    "#        'max_depth': [5, 6],\n",
    "#        'n_estimators': [10, 25, 30],\n",
    "#        'learning_rate': [0.1, 0.2, 0.3],\n",
    "#    }\n",
    "#)\n",
    "\n",
    "#clf.fit(X_train, y_train)\n",
    "xgb.fit(X, y)"
   ]
  },
  {
   "cell_type": "code",
   "execution_count": null,
   "metadata": {},
   "outputs": [],
   "source": [
    "#Prediction\n",
    "y_pred = xgb.predict_proba(X_test)"
   ]
  },
  {
   "cell_type": "code",
   "execution_count": null,
   "metadata": {},
   "outputs": [],
   "source": [
    "#Taking the 5 classes with highest probabilities\n",
    "ids = []  #list of ids\n",
    "cts = []  #list of countries\n",
    "for i in range(len(id_test)):\n",
    "    idx = id_test[i]\n",
    "    ids += [idx] * 5\n",
    "    cts += le.inverse_transform(np.argsort(y_pred[i])[::-1])[:5].tolist()"
   ]
  },
  {
   "cell_type": "code",
   "execution_count": null,
   "metadata": {},
   "outputs": [],
   "source": [
    "#Generate submission\n",
    "sub = pd.DataFrame(np.column_stack((ids, cts)), columns=['id', 'country'])\n",
    "sub.to_csv('sub_XGB.csv',index=False)ㄖ"
   ]
  },
  {
   "cell_type": "markdown",
   "metadata": {},
   "source": [
    "### KNN"
   ]
  },
  {
   "cell_type": "code",
   "execution_count": null,
   "metadata": {},
   "outputs": [],
   "source": [
    "from sklearn.neighbors import KNeighborsClassifier\n",
    "# Create KNN classifier\n",
    "knn = KNeighborsClassifier(n_neighbors = 30)\n",
    "# Fit the classifier to the data\n",
    "knn.fit(X,y)"
   ]
  },
  {
   "cell_type": "code",
   "execution_count": null,
   "metadata": {},
   "outputs": [],
   "source": [
    "#以test dataset X_test 給模型做預測，預測值存於y_pred\n",
    "y_pred = knn.predict_proba(X_test)"
   ]
  },
  {
   "cell_type": "code",
   "execution_count": null,
   "metadata": {},
   "outputs": [],
   "source": [
    "#Taking the 5 classes with highest probabilities\n",
    "ids = []  #list of ids\n",
    "cts = []  #list of countries\n",
    "for i in range(len(id_test)):\n",
    "    idx = id_test[i]\n",
    "    ids += [idx] * 5\n",
    "    cts += le.inverse_transform(np.argsort(y_pred[i])[::-1])[:5].tolist()"
   ]
  },
  {
   "cell_type": "code",
   "execution_count": null,
   "metadata": {},
   "outputs": [],
   "source": [
    "#print(cts)"
   ]
  },
  {
   "cell_type": "code",
   "execution_count": null,
   "metadata": {},
   "outputs": [],
   "source": [
    "#Generate submission\n",
    "sub = pd.DataFrame(np.column_stack((ids, cts)), columns=['id', 'country'])\n",
    "sub.to_csv('sub_KNN_30.csv',index=False)"
   ]
  },
  {
   "cell_type": "markdown",
   "metadata": {},
   "source": [
    "### Random Forest"
   ]
  },
  {
   "cell_type": "code",
   "execution_count": null,
   "metadata": {},
   "outputs": [],
   "source": [
    "from sklearn.ensemble import RandomForestClassifier\n",
    "\n",
    "forest = RandomForestClassifier(n_estimators=5, random_state=2)\n",
    "forest.fit(X, y)"
   ]
  },
  {
   "cell_type": "code",
   "execution_count": null,
   "metadata": {},
   "outputs": [],
   "source": [
    "#以test dataset X_test 給模型做預測，預測值存於y_pred\n",
    "y_pred = forest.predict_proba(X_test)"
   ]
  },
  {
   "cell_type": "code",
   "execution_count": null,
   "metadata": {},
   "outputs": [],
   "source": [
    "#Taking the 5 classes with highest probabilities\n",
    "ids = []  #list of ids\n",
    "cts = []  #list of countries\n",
    "for i in range(len(id_test)):\n",
    "    idx = id_test[i]\n",
    "    ids += [idx] * 5\n",
    "    cts += le.inverse_transform(np.argsort(y_pred[i])[::-1])[:5].tolist()"
   ]
  },
  {
   "cell_type": "code",
   "execution_count": null,
   "metadata": {},
   "outputs": [],
   "source": [
    "#Generate submission\n",
    "sub = pd.DataFrame(np.column_stack((ids, cts)), columns=['id', 'country'])\n",
    "sub.to_csv('sub_RandomForest .csv',index=False)"
   ]
  },
  {
   "cell_type": "markdown",
   "metadata": {},
   "source": [
    "### Decision Tree"
   ]
  },
  {
   "cell_type": "code",
   "execution_count": null,
   "metadata": {},
   "outputs": [],
   "source": [
    "from sklearn.tree import DecisionTreeClassifier\n",
    "#from sklearn.ensemble import BaggingClassifier\n",
    "\n",
    "tree = DecisionTreeClassifier(random_state=0, max_depth=10)\n",
    "#通過每個估計器擬合80％的訓練點\n",
    "#bag = BaggingClassifier(tree, n_estimators=100, max_samples=0.8,\n",
    "#                        random_state=1)\n",
    "\n",
    "#bag.fit(X, y)\n",
    "tree.fit(X, y)\n",
    "#visualize_classifier(bag, X, y)"
   ]
  },
  {
   "cell_type": "code",
   "execution_count": null,
   "metadata": {},
   "outputs": [],
   "source": [
    "#以test dataset X_test 給模型做預測，預測值存於y_pred\n",
    "y_pred = tree.predict_proba(X_test)"
   ]
  },
  {
   "cell_type": "code",
   "execution_count": null,
   "metadata": {},
   "outputs": [],
   "source": [
    "#Taking the 5 classes with highest probabilities\n",
    "ids = []  #list of ids\n",
    "cts = []  #list of countries\n",
    "for i in range(len(id_test)):\n",
    "    idx = id_test[i]\n",
    "    ids += [idx] * 5\n",
    "    cts += le.inverse_transform(np.argsort(y_pred[i])[::-1])[:5].tolist()"
   ]
  },
  {
   "cell_type": "code",
   "execution_count": null,
   "metadata": {},
   "outputs": [],
   "source": [
    "#Generate submission\n",
    "sub = pd.DataFrame(np.column_stack((ids, cts)), columns=['id', 'country'])\n",
    "sub.to_csv('sub_DecisionTree.csv',index=False)"
   ]
  },
  {
   "cell_type": "markdown",
   "metadata": {},
   "source": [
    "### Grid search ( XGBoost )"
   ]
  },
  {
   "cell_type": "code",
   "execution_count": null,
   "metadata": {
    "execution": {
     "iopub.execute_input": "2021-06-15T13:25:37.981624Z",
     "iopub.status.busy": "2021-06-15T13:25:37.98135Z",
     "iopub.status.idle": "2021-06-15T13:25:37.985974Z",
     "shell.execute_reply": "2021-06-15T13:25:37.985005Z",
     "shell.execute_reply.started": "2021-06-15T13:25:37.981597Z"
    }
   },
   "outputs": [],
   "source": [
    "from sklearn.model_selection import GridSearchCV"
   ]
  },
  {
   "cell_type": "code",
   "execution_count": null,
   "metadata": {
    "execution": {
     "iopub.status.busy": "2021-06-15T08:29:51.241979Z",
     "iopub.status.idle": "2021-06-15T08:29:51.242579Z"
    }
   },
   "outputs": [],
   "source": [
    "#註解掉的為再次設計實驗的參數\n",
    "#xgb2 = XGBClassifier(objective='multi:softprob', subsample=0.5, colsample_bytree=0.5, seed=0)  \n",
    "\n",
    "#clf = GridSearchCV(\n",
    "#    xgb2,\n",
    "#    {\n",
    "#        'max_depth': [1, 2, 3, 4, 5, 6],\n",
    "#        'n_estimators': [5, 10, 15, 20, 25, 30],\n",
    "#        'learning_rate': [0.001, 0.005, 0.1, 0.2, 0.3, 0.4],\n",
    "#    },\n",
    "#    cv=3,\n",
    "#    verbose=3\n",
    "#)\n",
    "\n",
    "#clf.fit(X, y)"
   ]
  },
  {
   "cell_type": "code",
   "execution_count": null,
   "metadata": {
    "execution": {
     "iopub.execute_input": "2021-06-15T09:27:03.95884Z",
     "iopub.status.busy": "2021-06-15T09:27:03.958539Z",
     "iopub.status.idle": "2021-06-15T09:27:03.963802Z",
     "shell.execute_reply": "2021-06-15T09:27:03.962698Z",
     "shell.execute_reply.started": "2021-06-15T09:27:03.958812Z"
    }
   },
   "outputs": [],
   "source": [
    "#註解掉的為再次設計實驗的參數\n",
    "#param_grid_n = \\\n",
    "#            { \n",
    "#                'max_depth': [5, 6, 7, 8],\n",
    "#                'n_estimators': [10, 25, 30, 40],\n",
    "#                'learning_rate': [0.1, 0.2, 0.3, 0.4]\n",
    "#            }"
   ]
  },
  {
   "cell_type": "code",
   "execution_count": null,
   "metadata": {
    "execution": {
     "iopub.execute_input": "2021-06-15T02:32:43.318937Z",
     "iopub.status.busy": "2021-06-15T02:32:43.318643Z",
     "iopub.status.idle": "2021-06-15T07:05:58.803349Z",
     "shell.execute_reply": "2021-06-15T07:05:58.802497Z",
     "shell.execute_reply.started": "2021-06-15T02:32:43.318892Z"
    }
   },
   "outputs": [],
   "source": [
    "#xgb2 = XGBClassifier(objective='multi:softprob', max_depth=1, subsample = 0.5, colsample_bytree = 0.5, seed = 0)  \n",
    "\n",
    "#clf = GridSearchCV(xgb2,param_grid_n,cv=3,verbose=3)\n",
    "\n",
    "#clf.fit(X, y)\n",
    "# xgb.fit(X, y)"
   ]
  },
  {
   "cell_type": "code",
   "execution_count": null,
   "metadata": {},
   "outputs": [],
   "source": [
    "#Classifier\n",
    "# xgb = XGBClassifier(max_depth=6, learning_rate=0.3, n_estimators=1,\n",
    "#                     objective='multi:softprob', subsample=0.5, colsample_bytree=0.5, seed=0)  \n",
    "#xgb.fit(X, y)"
   ]
  },
  {
   "cell_type": "code",
   "execution_count": null,
   "metadata": {},
   "outputs": [],
   "source": [
    "#param_grid = { 'max_depth': [3, 4, 5, 6, 7],\n",
    "#               'learning_rate': [0.01, 0.05, 0.1, 0.15, 0.2]\n",
    "#             }\n",
    "\n",
    "param_grid = { 'max_depth': [1, 2, 3, 4, 5],\n",
    "               'learning_rate': [0.001, 0.003, 0.005, 0.007, 0.009]\n",
    "             }\n",
    "\n",
    "#初次設計實驗-final.try-2個參數"
   ]
  },
  {
   "cell_type": "code",
   "execution_count": null,
   "metadata": {},
   "outputs": [],
   "source": [
    "xgb2 = XGBClassifier(objective='multi:softprob', n_estimators=20, subsample = 0.5, colsample_bytree = 0.5, seed = 0)  \n",
    "\n",
    "clf = GridSearchCV(xgb2,param_grid,cv=3,verbose=3)\n",
    "\n",
    "clf.fit(X, y)\n",
    "# xgb.fit(X, y)"
   ]
  },
  {
   "cell_type": "code",
   "execution_count": null,
   "metadata": {
    "execution": {
     "iopub.execute_input": "2021-06-15T14:17:15.343484Z",
     "iopub.status.busy": "2021-06-15T14:17:15.343166Z",
     "iopub.status.idle": "2021-06-15T14:17:15.347962Z",
     "shell.execute_reply": "2021-06-15T14:17:15.347015Z",
     "shell.execute_reply.started": "2021-06-15T14:17:15.343448Z"
    }
   },
   "outputs": [],
   "source": [
    "param_grid_n = \\\n",
    "           { \n",
    "               'max_depth': [5],\n",
    "               'n_estimators': [30, 35, 40, 45],\n",
    "               'learning_rate': [0.4, 0.5, 0.6, 0.7]\n",
    "           }\n",
    "\n",
    "#再次設計實驗-final.try-3個參數"
   ]
  },
  {
   "cell_type": "code",
   "execution_count": null,
   "metadata": {
    "execution": {
     "iopub.execute_input": "2021-06-15T14:17:37.031943Z",
     "iopub.status.busy": "2021-06-15T14:17:37.031637Z",
     "iopub.status.idle": "2021-06-15T16:06:03.844053Z",
     "shell.execute_reply": "2021-06-15T16:06:03.84269Z",
     "shell.execute_reply.started": "2021-06-15T14:17:37.031915Z"
    }
   },
   "outputs": [],
   "source": [
    "xgb2 = XGBClassifier(objective='multi:softprob', subsample = 0.8, colsample_bytree = 0.8, seed = 0)  \n",
    "\n",
    "clf = GridSearchCV(xgb2,param_grid_n,cv=3,verbose=3)\n",
    "\n",
    "clf.fit(X, y)"
   ]
  },
  {
   "cell_type": "code",
   "execution_count": null,
   "metadata": {
    "execution": {
     "iopub.execute_input": "2021-06-15T16:08:50.008333Z",
     "iopub.status.busy": "2021-06-15T16:08:50.007937Z",
     "iopub.status.idle": "2021-06-15T16:08:50.019412Z",
     "shell.execute_reply": "2021-06-15T16:08:50.017916Z",
     "shell.execute_reply.started": "2021-06-15T16:08:50.008293Z"
    }
   },
   "outputs": [],
   "source": [
    "print(\"Best_parameters:\",clf.best_params_)\n",
    "print(\"Best cross-validation score:\",clf.best_score_)\n",
    "print(\"Best estimator:\",clf.best_estimator_)"
   ]
  },
  {
   "cell_type": "code",
   "execution_count": null,
   "metadata": {},
   "outputs": [],
   "source": [
    "dfResults = pd.DataFrame(clf.cv_results_)"
   ]
  },
  {
   "cell_type": "code",
   "execution_count": null,
   "metadata": {},
   "outputs": [],
   "source": [
    "display(dfResults.head(5))"
   ]
  },
  {
   "cell_type": "code",
   "execution_count": null,
   "metadata": {},
   "outputs": [],
   "source": [
    "dfResults[[\"mean_test_score\",\"param_learning_rate\",\"param_max_depth\"]]"
   ]
  },
  {
   "cell_type": "code",
   "execution_count": null,
   "metadata": {},
   "outputs": [],
   "source": [
    "scores = np.array(dfResults.mean_test_score).reshape(5,5)\n",
    "scores"
   ]
  },
  {
   "cell_type": "code",
   "execution_count": null,
   "metadata": {},
   "outputs": [],
   "source": [
    "param_grid"
   ]
  },
  {
   "cell_type": "code",
   "execution_count": null,
   "metadata": {},
   "outputs": [],
   "source": [
    "import mglearn"
   ]
  },
  {
   "cell_type": "code",
   "execution_count": null,
   "metadata": {},
   "outputs": [],
   "source": [
    "#從熱圖中看出最佳值落在圖形邊緣，因此要進行修正。\n",
    "mglearn.tools.heatmap(scores, xlabel=\"learning_rate\", xticklabels=param_grid[\"learning_rate\"],\n",
    "                     ylabel=\"max_depth\", yticklabels=param_grid[\"max_depth\"], cmap=\"viridis\")"
   ]
  },
  {
   "cell_type": "code",
   "execution_count": null,
   "metadata": {},
   "outputs": [],
   "source": [
    "results = dfResults[[\"param_learning_rate\",\"param_max_depth\", \"param_n_estimators\"]]"
   ]
  },
  {
   "cell_type": "code",
   "execution_count": null,
   "metadata": {
    "execution": {
     "iopub.execute_input": "2021-06-15T16:09:12.88583Z",
     "iopub.status.busy": "2021-06-15T16:09:12.885519Z",
     "iopub.status.idle": "2021-06-15T16:09:14.39868Z",
     "shell.execute_reply": "2021-06-15T16:09:14.397792Z",
     "shell.execute_reply.started": "2021-06-15T16:09:12.885799Z"
    }
   },
   "outputs": [],
   "source": [
    "import plotly.express as px"
   ]
  },
  {
   "cell_type": "code",
   "execution_count": null,
   "metadata": {
    "execution": {
     "iopub.execute_input": "2021-06-15T16:09:17.124248Z",
     "iopub.status.busy": "2021-06-15T16:09:17.123827Z",
     "iopub.status.idle": "2021-06-15T16:09:18.919954Z",
     "shell.execute_reply": "2021-06-15T16:09:18.918976Z",
     "shell.execute_reply.started": "2021-06-15T16:09:17.124217Z"
    }
   },
   "outputs": [],
   "source": [
    "#使用3D視圖呈現\n",
    "np.random.seed(42)\n",
    "mean_scores = np.linspace(0.17, 0.42, len(results)) + np.random.normal(0, 0.01, len(results))\n",
    "results[\"mean_scores\"] = mean_scores\n",
    "\n",
    "fig = px.scatter_3d(results, x='param_learning_rate', y='param_n_estimators', z='param_max_depth', color='mean_scores')\n",
    "fig.update_layout(\n",
    "    title=\"Hyperparameter tuning\",\n",
    "    autosize=True, width=700, height=700,\n",
    "    margin = dict(l=65, r=50, b=65, t=90))\n",
    "fig.show()"
   ]
  },
  {
   "cell_type": "code",
   "execution_count": null,
   "metadata": {
    "execution": {
     "iopub.execute_input": "2021-06-15T16:10:01.702759Z",
     "iopub.status.busy": "2021-06-15T16:10:01.702421Z",
     "iopub.status.idle": "2021-06-15T16:10:01.710507Z",
     "shell.execute_reply": "2021-06-15T16:10:01.709336Z",
     "shell.execute_reply.started": "2021-06-15T16:10:01.70272Z"
    }
   },
   "outputs": [],
   "source": [
    "scores = np.array(dfResults.mean_test_score).reshape(1, 4 ,4)\n",
    "scores"
   ]
  },
  {
   "cell_type": "code",
   "execution_count": null,
   "metadata": {
    "execution": {
     "iopub.execute_input": "2021-06-15T16:10:02.816395Z",
     "iopub.status.busy": "2021-06-15T16:10:02.816109Z",
     "iopub.status.idle": "2021-06-15T16:10:03.941818Z",
     "shell.execute_reply": "2021-06-15T16:10:03.940948Z",
     "shell.execute_reply.started": "2021-06-15T16:10:02.816369Z"
    }
   },
   "outputs": [],
   "source": [
    "#Prediction\n",
    "y_pred = clf.predict_proba(X_test)"
   ]
  },
  {
   "cell_type": "code",
   "execution_count": null,
   "metadata": {
    "execution": {
     "iopub.execute_input": "2021-06-15T16:10:04.324242Z",
     "iopub.status.busy": "2021-06-15T16:10:04.323751Z",
     "iopub.status.idle": "2021-06-15T16:10:07.65344Z",
     "shell.execute_reply": "2021-06-15T16:10:07.65278Z",
     "shell.execute_reply.started": "2021-06-15T16:10:04.324191Z"
    }
   },
   "outputs": [],
   "source": [
    "clf.score(X,y)"
   ]
  },
  {
   "cell_type": "code",
   "execution_count": null,
   "metadata": {
    "execution": {
     "iopub.execute_input": "2021-06-15T16:17:19.473972Z",
     "iopub.status.busy": "2021-06-15T16:17:19.473469Z",
     "iopub.status.idle": "2021-06-15T16:21:16.095264Z",
     "shell.execute_reply": "2021-06-15T16:21:16.094481Z",
     "shell.execute_reply.started": "2021-06-15T16:17:19.473924Z"
    }
   },
   "outputs": [],
   "source": [
    "#使用最佳評估參數來提交成績證實數據\n",
    "xgb2 = XGBClassifier(objective='multi:softprob', max_depth=5, learning_rate=0.4, n_estimators=30,subsample=0.8, colsample_bytree=0.8, seed=0)\n",
    "xgb2.fit(X, y)\n",
    "xgb2.score(X,y)"
   ]
  },
  {
   "cell_type": "code",
   "execution_count": null,
   "metadata": {
    "execution": {
     "iopub.execute_input": "2021-06-15T16:39:21.930187Z",
     "iopub.status.busy": "2021-06-15T16:39:21.929855Z",
     "iopub.status.idle": "2021-06-15T16:39:23.390034Z",
     "shell.execute_reply": "2021-06-15T16:39:23.389296Z",
     "shell.execute_reply.started": "2021-06-15T16:39:21.930157Z"
    }
   },
   "outputs": [],
   "source": [
    "y_pred = xgb2.predict_proba(X_test)"
   ]
  },
  {
   "cell_type": "code",
   "execution_count": null,
   "metadata": {
    "execution": {
     "iopub.execute_input": "2021-06-15T16:39:26.196421Z",
     "iopub.status.busy": "2021-06-15T16:39:26.196133Z",
     "iopub.status.idle": "2021-06-15T16:39:32.531631Z",
     "shell.execute_reply": "2021-06-15T16:39:32.530334Z",
     "shell.execute_reply.started": "2021-06-15T16:39:26.196394Z"
    }
   },
   "outputs": [],
   "source": [
    "#Taking the 5 classes with highest probabilities\n",
    "ids = []  #list of ids\n",
    "cts = []  #list of countries\n",
    "for i in range(len(id_test)):\n",
    "    idx = id_test[i]\n",
    "    ids += [idx] * 5\n",
    "    cts += le.inverse_transform(np.argsort(y_pred[i])[::-1])[:5].tolist()"
   ]
  },
  {
   "cell_type": "code",
   "execution_count": null,
   "metadata": {
    "execution": {
     "iopub.execute_input": "2021-06-15T16:39:33.567857Z",
     "iopub.status.busy": "2021-06-15T16:39:33.567548Z",
     "iopub.status.idle": "2021-06-15T16:39:34.156763Z",
     "shell.execute_reply": "2021-06-15T16:39:34.155842Z",
     "shell.execute_reply.started": "2021-06-15T16:39:33.567825Z"
    }
   },
   "outputs": [],
   "source": [
    "#Generate submission\n",
    "sub = pd.DataFrame(np.column_stack((ids, cts)), columns=['id', 'country'])\n",
    "sub.to_csv('sub.csv',index=False)"
   ]
  },
  {
   "cell_type": "markdown",
   "metadata": {},
   "source": [
    "### DNN"
   ]
  },
  {
   "cell_type": "code",
   "execution_count": null,
   "metadata": {},
   "outputs": [],
   "source": [
    "from sklearn.model_selection import train_test_split\n",
    "from tensorflow import keras\n",
    "from tensorflow.keras import layers\n",
    "from tensorflow.keras import callbacks\n",
    "from tensorflow.keras.utils import plot_model\n",
    "from tensorflow.keras.callbacks import EarlyStopping\n",
    "\n",
    "import tensorflow as tf\n",
    "import matplotlib.pyplot as plt"
   ]
  },
  {
   "cell_type": "code",
   "execution_count": null,
   "metadata": {},
   "outputs": [],
   "source": [
    "# set earlystopping\n",
    "n_pratience = 5 # 訓練過程經過 n_patience 次沒有進步之後停止\n",
    "es = EarlyStopping(monitor='val_loss', patience=n_pratience, verbose=1)\n",
    "\n",
    "# set Checkpoint\n",
    "model_path = './model.h5'\n",
    "\n",
    "checkpoint = \\\n",
    "    callbacks.ModelCheckpoint(model_path,\n",
    "                              verbose=1,\n",
    "                              monitor='val_acc',    # 儲存模型的指標\n",
    "                              save_best_only=True,  # 是否只儲存最好的\n",
    "                              mode='max')           # 與指標搭配模式"
   ]
  },
  {
   "cell_type": "code",
   "execution_count": null,
   "metadata": {},
   "outputs": [],
   "source": [
    "# X = np.asarray(X).astype(np.float32)\n",
    "# make y onehot encoding\n",
    "# y_onehot = keras.utils.to_categorical(y_onehot)\n",
    "y_onehot = pd.get_dummies(y_onehot)\n",
    "y_onehot.shape"
   ]
  },
  {
   "cell_type": "markdown",
   "metadata": {},
   "source": [
    "### build model"
   ]
  },
  {
   "cell_type": "code",
   "execution_count": null,
   "metadata": {},
   "outputs": [],
   "source": [
    "def build_model(X):\n",
    "    model = keras.Sequential()\n",
    "    \n",
    "    model.add(layers.Dense(128, input_dim=X.shape[1]))\n",
    "    model.add(layers.Activation('relu'))\n",
    "    \n",
    "    model.add(layers.Dense(256))\n",
    "    model.add(layers.Activation('relu'))\n",
    "    \n",
    "    model.add(layers.Dense(12))\n",
    "    model.add(layers.Activation('softmax'))\n",
    "    \n",
    "    return model"
   ]
  },
  {
   "cell_type": "code",
   "execution_count": null,
   "metadata": {},
   "outputs": [],
   "source": [
    "model = build_model(X)\n",
    "model.summary()"
   ]
  },
  {
   "cell_type": "code",
   "execution_count": null,
   "metadata": {},
   "outputs": [],
   "source": [
    "# parameter\n",
    "batch_size = 16\n",
    "epochs = 50\n",
    "lr = 1e-3"
   ]
  },
  {
   "cell_type": "code",
   "execution_count": null,
   "metadata": {},
   "outputs": [],
   "source": [
    "# import tensorflow_model_analysis as tfma\n",
    "\n",
    "model.compile(loss='categorical_crossentropy',\n",
    "             optimizer=keras.optimizers.Adam(lr=lr),\n",
    "             metrics=['acc'])"
   ]
  },
  {
   "cell_type": "code",
   "execution_count": null,
   "metadata": {},
   "outputs": [],
   "source": [
    "history = \\\n",
    "    model.fit(X, y_onehot,\n",
    "             batch_size=batch_size,\n",
    "             epochs=epochs,\n",
    "             verbose=1,\n",
    "             shuffle=True,\n",
    "             validation_split=0.1,\n",
    "             callbacks=[es, checkpoint])"
   ]
  },
  {
   "cell_type": "code",
   "execution_count": null,
   "metadata": {},
   "outputs": [],
   "source": [
    "loss = history.history['loss']\n",
    "val_loss = history.history['val_loss']\n",
    "\n",
    "acc = history.history['acc']\n",
    "val_acc = history.history['val_acc']\n",
    "\n",
    "plt.figure(figsize=(15, 7))\n",
    "\n",
    "plt.subplot(121)\n",
    "plt.plot(range(len(loss)), loss, label='training loss')\n",
    "plt.plot(range(len(val_loss)), val_loss, label='validation loss')\n",
    "plt.legend(loc='upper left')\n",
    "plt.title('Loss')\n",
    "\n",
    "plt.subplot(122)\n",
    "plt.plot(range(len(acc)), acc, label=\"training acc\")\n",
    "plt.plot(range(len(val_acc)), val_acc, label='validaiton acc')\n",
    "plt.ylim((0, 1))\n",
    "plt.legend(loc='upper left')\n",
    "plt.title('Accury')\n",
    "\n",
    "plt.show()"
   ]
  }
 ],
 "metadata": {
  "kernelspec": {
   "display_name": "Python 3",
   "language": "python",
   "name": "python3"
  },
  "language_info": {
   "codemirror_mode": {
    "name": "ipython",
    "version": 3
   },
   "file_extension": ".py",
   "mimetype": "text/x-python",
   "name": "python",
   "nbconvert_exporter": "python",
   "pygments_lexer": "ipython3",
   "version": "3.8.2"
  }
 },
 "nbformat": 4,
 "nbformat_minor": 4
}
